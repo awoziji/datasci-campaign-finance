{
 "cells": [
  {
   "cell_type": "code",
   "execution_count": 138,
   "metadata": {},
   "outputs": [],
   "source": [
    "import pandas as pd\n",
    "df = pd.read_csv('src/sf/campaign_finance_proof_of_concept_460a.csv')\n",
    "df = df[['canonical_filer_naml','canonical_tran_name','tran_amt2']]\n"
   ]
  },
  {
   "cell_type": "code",
   "execution_count": 139,
   "metadata": {},
   "outputs": [],
   "source": [
    "from collections import defaultdict\n",
    "class Vertex:\n",
    "    def __init__(self, node):\n",
    "        self.id = node\n",
    "        self.adjacent = defaultdict(int)\n",
    "\n",
    "    def __str__(self):\n",
    "        return str(self.id) + ' adjacent: ' + str([x.id for x in self.adjacent])\n",
    "\n",
    "    def add_neighbor(self, neighbor, weight=0):\n",
    "        self.adjacent[neighbor] += weight\n",
    "\n",
    "    def get_connections(self):\n",
    "        return self.adjacent.keys()  \n",
    "\n",
    "    def get_id(self):\n",
    "        return self.id\n",
    "\n",
    "    def get_weight(self, neighbor):\n",
    "        return self.adjacent.get(neighbor)\n",
    "\n",
    "class Graph:\n",
    "    def __init__(self):\n",
    "        self.vert_dict = {}\n",
    "        self.num_vertices = 0\n",
    "\n",
    "    def __iter__(self):\n",
    "        return iter(self.vert_dict.values())\n",
    "\n",
    "    def add_vertex(self, node):\n",
    "        self.num_vertices = self.num_vertices + 1\n",
    "        new_vertex = Vertex(node)\n",
    "        self.vert_dict[node] = new_vertex\n",
    "        return new_vertex\n",
    "\n",
    "    def get_vertex(self, n):\n",
    "        if n in self.vert_dict:\n",
    "            return self.vert_dict[n]\n",
    "        else:\n",
    "            return None\n",
    "\n",
    "    def add_edge(self, frm, to, amount = 0):\n",
    "        frm_vertex = self.get_vertex(frm)\n",
    "        if frm_vertex is None:\n",
    "            frm_vertex = self.add_vertex(frm)\n",
    "        \n",
    "        to_vertex = self.get_vertex(to)\n",
    "        if to_vertex is None:\n",
    "            to_vertex = self.add_vertex(to)\n",
    "\n",
    "        \n",
    "        frm_vertex.add_neighbor(to_vertex, amount)\n",
    "        # graph is directed -- leave commented out\n",
    "        #self.vert_dict[to].add_neighbor(self.vert_dict[frm], amount)\n",
    "\n",
    "    def get_vertices(self):\n",
    "        return self.vert_dict.keys()"
   ]
  },
  {
   "cell_type": "code",
   "execution_count": 142,
   "metadata": {},
   "outputs": [
    {
     "name": "stdout",
     "output_type": "stream",
     "text": [
      "Arnold, John | Action Now Initiative | 30000.00\n",
      "Arnold, John | Action Now Initiative | 130000.00\n",
      "Arnold, John | Action Now Initiative | 880000.00\n",
      "Arnold, John | Action Now Initiative | 1630000.00\n",
      "Arnold, Laura | Action Now Initiative | 30000.00\n",
      "Arnold, Laura | Action Now Initiative | 130000.00\n",
      "Arnold, Laura | Action Now Initiative | 880000.00\n",
      "Arnold, Laura | Action Now Initiative | 1630000.00\n",
      "Bloomberg, Michael | Yes on Proposition V | 150000.00\n",
      "Bloomberg, Michael | Yes on Proposition V | 1945497.50\n",
      "Action Now Initiative | Yes on Proposition V | 10000.00\n",
      "Action Now Initiative | Yes on Proposition V | 60000.00\n",
      "Action Now Initiative | Yes on Proposition V | 185000.00\n",
      "Action Now Initiative | Yes on Proposition V | 1185000.00\n",
      "Action Now Initiative | Yes on Proposition V | 2185000.00\n"
     ]
    }
   ],
   "source": [
    "import csv\n",
    "import decimal \n",
    "from collections import defaultdict\n",
    "\n",
    "\n",
    "dgraph = Graph()\n",
    "\n",
    "fname = 'src/sf/campaign_finance_proof_of_concept_460a.csv'\n",
    "for row in csv.DictReader(open(fname, 'r'), delimiter=',', quotechar='\"'):\n",
    "    doner = row['canonical_tran_name']\n",
    "    donee = row['canonical_filer_naml']\n",
    "    amount = decimal.Decimal(row['tran_amt2'].replace(\"$\",\"\").replace(\",\",\"\"))\n",
    "    dgraph.add_edge(doner, donee, amount = amount)\n",
    "    print(f'{doner} | {donee} | {amount}')"
   ]
  },
  {
   "cell_type": "code",
   "execution_count": 144,
   "metadata": {},
   "outputs": [
    {
     "name": "stdout",
     "output_type": "stream",
     "text": [
      "[('Action Now Initiative', Decimal('2670000.00')), ('Yes on Proposition V', Decimal('3625000.00'))]\n"
     ]
    }
   ],
   "source": [
    "node_name = 'Arnold, John'\n",
    "node_name = 'Arnold, Laura'\n",
    "vertex = dgraph.get_vertex(node_name)\n",
    "\n",
    "def search(vertex, graph, path=[]):\n",
    "    if len(vertex.get_connections()) == 0:\n",
    "        return path\n",
    "    else:\n",
    "        for connection in vertex.get_connections():\n",
    "            path.append((connection.id, vertex.get_weight(connection)))\n",
    "            return search(graph.get_vertex(connection.id), graph, path)\n",
    "        \n",
    "\n",
    "print(search(vertex, dgraph))"
   ]
  },
  {
   "cell_type": "code",
   "execution_count": null,
   "metadata": {},
   "outputs": [],
   "source": []
  },
  {
   "cell_type": "code",
   "execution_count": null,
   "metadata": {},
   "outputs": [],
   "source": []
  },
  {
   "cell_type": "code",
   "execution_count": null,
   "metadata": {
    "collapsed": true
   },
   "outputs": [],
   "source": []
  }
 ],
 "metadata": {
  "kernelspec": {
   "display_name": "Python 3",
   "language": "python",
   "name": "python3"
  },
  "language_info": {
   "codemirror_mode": {
    "name": "ipython",
    "version": 3
   },
   "file_extension": ".py",
   "mimetype": "text/x-python",
   "name": "python",
   "nbconvert_exporter": "python",
   "pygments_lexer": "ipython3",
   "version": "3.6.2"
  }
 },
 "nbformat": 4,
 "nbformat_minor": 2
}
