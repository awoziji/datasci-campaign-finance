{
 "cells": [
  {
   "cell_type": "markdown",
   "metadata": {},
   "source": [
    "# Introduction\n",
    "In this write up, we will be describing our work for our capstone. A lot of the work done was done in the background, so the main machine learning and feature engineering work has been done in this notebook. We are aiming to not prove that campaign funding and/or other features affect campaign results, but to show what affect they have on campaign outcomes. Since there has been much reasearch into the subect of predicting campaign results, there is a need for other reasearch as stated above.\n",
    "\n",
    "# Data Sets \n",
    "There are two main datasets that we are working with. Here we will provide an overall explanation of each of them and finally explain our thought process of combining the two together to be used with our models and for future feature engineering. \n",
    "## Campaign Funding Data\n",
    "This dataset has -- rows of funding data and -- unique organizations/individuals that donated for California local elections. This data was given to us by --, a company that partnered with Code for San Francisco to provide secure and relativley cleaned data to use in exploration and to build their platform off of. This dataset provides data from 20-- to the most recent election. One row would represent one transaction from an individual organization. It also shows what state they are from, who they are donating to, and also what election year they are making a certain donation. One organization, company, or individual can donate multiple times, so to get a total contribution for an individual, there is some aggregation needed.\n",
    "\n",
    "## Candidate Campaign Outcomes"
   ]
  },
  {
   "cell_type": "code",
   "execution_count": 57,
   "metadata": {},
   "outputs": [],
   "source": [
    "from fuzzywuzzy import fuzz\n",
    "\n",
    "# Remove warnings for report purposes\n",
    "import warnings\n",
    "warnings.filterwarnings('ignore')\n",
    "\n",
    "from sklearn.svm import SVC\n",
    "from sklearn.pipeline import Pipeline\n",
    "from sklearn.preprocessing import StandardScaler\n",
    "from sklearn.model_selection import StratifiedShuffleSplit\n",
    "from sklearn.model_selection import GridSearchCV\n",
    "from sklearn.model_selection import StratifiedKFold\n",
    "from sklearn.preprocessing import PolynomialFeatures\n",
    "from sklearn.svm import SVC\n",
    "from sklearn.preprocessing import LabelBinarizer\n",
    "from sklearn.pipeline import FeatureUnion\n",
    "from sklearn.model_selection import train_test_split\n",
    "from sklearn.ensemble import ExtraTreesClassifier\n",
    "\n",
    "import datetime as dt\n",
    "import os\n",
    "import sys\n",
    "import sklearn\n",
    "\n",
    "import numpy as np\n",
    "import pandas as pd\n",
    "from scipy import interp\n",
    "import scipy.stats as stats\n",
    "from sklearn.model_selection import train_test_split\n",
    "from sklearn.ensemble import RandomForestClassifier\n",
    "from sklearn.metrics import accuracy_score, auc, confusion_matrix, roc_curve, average_precision_score, precision_recall_curve\n",
    "from sklearn.model_selection import StratifiedKFold\n",
    "from sqlalchemy import create_engine\n",
    "import matplotlib.pyplot as plt\n",
    "%matplotlib inline\n",
    "\n",
    "sys.path.append('../')\n",
    "from utilities import sql_utils as su\n",
    "from utilities import model_eval_utils as meu\n",
    "\n",
    "pd.options.display.max_columns = 1000\n",
    "pd.options.display.max_rows = 1000\n",
    "pd.set_option('display.float_format', lambda x: '%.3f' % x)\n",
    "pd.options.display.max_columns = 999\n",
    "import sqlalchemy as sqla\n",
    "\n",
    "DB_URI = os.getenv('CD_DWH')\n",
    "engine = create_engine(DB_URI)"
   ]
  },
  {
   "cell_type": "code",
   "execution_count": 3,
   "metadata": {},
   "outputs": [
    {
     "data": {
      "text/plain": [
       "'0.19.1'"
      ]
     },
     "execution_count": 3,
     "metadata": {},
     "output_type": "execute_result"
    }
   ],
   "source": [
    "sklearn.__version__"
   ]
  },
  {
   "cell_type": "code",
   "execution_count": 4,
   "metadata": {
    "collapsed": true
   },
   "outputs": [],
   "source": [
    "def split_dataset(dataset, train_percentage, feature_headers, target_header):\n",
    "    \"\"\"\n",
    "    Split the dataset with train_percentage\n",
    "    \n",
    "    Keyword Args:\n",
    "    dataset: The Actual Dataset\n",
    "    train_percentage: Percentage of Dataset to split into Training\n",
    "    feature_headers: columns that are features to include\n",
    "    target_header: column that is the outcome variable of interest\n",
    "    :return: train_x, test_x, train_y, test_y\n",
    "    \"\"\"\n",
    "\n",
    "    # Split dataset into train and test dataset\n",
    "    train_x, test_x, train_y, test_y = train_test_split(dataset[feature_headers], dataset[target_header],\n",
    "                                                        train_size=train_percentage)\n",
    "    return train_x, test_x, train_y, test_y"
   ]
  },
  {
   "cell_type": "code",
   "execution_count": 5,
   "metadata": {
    "collapsed": true
   },
   "outputs": [],
   "source": [
    "from sklearn.base import BaseEstimator, TransformerMixin\n",
    "class DataFrameSelector(BaseEstimator, TransformerMixin):\n",
    "    def __init__(self, attribute_names):\n",
    "        self.attribute_names = attribute_names\n",
    "    def fit(self, X, y=None):\n",
    "        return self\n",
    "    def transform(self, X):\n",
    "        return X[self.attribute_names].values"
   ]
  },
  {
   "cell_type": "markdown",
   "metadata": {},
   "source": [
    "## Data Processing - Data Set Engineering\n",
    "A huge portion of our capstone was focused on producing usable data that we could engineer in the future. We were provided with two datasets where names were spelt very differently, for example, \"Jerry Brown\" and \"Gerald Brown Jr.\". The query shown below is the result of name mapping scripts. We created a table close to a hashing table where each name is connected to an ID signifying that two names belonged to the same person. So \"Jerry Brown\" and \"Gerals Brown Jr.\" would theoretically be connected to the same ID. However, these connections are not 100% accurate, and have required some human intervention to manually connect these names together, because some candidates have many names that are might be different from another name. "
   ]
  },
  {
   "cell_type": "markdown",
   "metadata": {},
   "source": [
    "## Fuzzy Name Matching Table\n",
    "Matching these names"
   ]
  },
  {
   "cell_type": "code",
   "execution_count": 6,
   "metadata": {},
   "outputs": [
    {
     "name": "stdout",
     "output_type": "stream",
     "text": [
      "Size: 2574\n"
     ]
    },
    {
     "data": {
      "text/html": [
       "<div>\n",
       "<style>\n",
       "    .dataframe thead tr:only-child th {\n",
       "        text-align: right;\n",
       "    }\n",
       "\n",
       "    .dataframe thead th {\n",
       "        text-align: left;\n",
       "    }\n",
       "\n",
       "    .dataframe tbody tr th {\n",
       "        vertical-align: top;\n",
       "    }\n",
       "</style>\n",
       "<table border=\"1\" class=\"dataframe\">\n",
       "  <thead>\n",
       "    <tr style=\"text-align: right;\">\n",
       "      <th></th>\n",
       "      <th>dbname</th>\n",
       "    </tr>\n",
       "  </thead>\n",
       "  <tbody>\n",
       "    <tr>\n",
       "      <th>0</th>\n",
       "      <td>None</td>\n",
       "    </tr>\n",
       "    <tr>\n",
       "      <th>1</th>\n",
       "      <td>KNIGHT, WILLIAM J. \\PETE\\\"\"</td>\n",
       "    </tr>\n",
       "    <tr>\n",
       "      <th>2</th>\n",
       "      <td>Adam Shbeita</td>\n",
       "    </tr>\n",
       "    <tr>\n",
       "      <th>3</th>\n",
       "      <td>HILL, JERRY A.</td>\n",
       "    </tr>\n",
       "    <tr>\n",
       "      <th>4</th>\n",
       "      <td>ACOSTA, GEORGIA L.</td>\n",
       "    </tr>\n",
       "  </tbody>\n",
       "</table>\n",
       "</div>"
      ],
      "text/plain": [
       "                        dbname\n",
       "0                         None\n",
       "1  KNIGHT, WILLIAM J. \\PETE\\\"\"\n",
       "2                 Adam Shbeita\n",
       "3               HILL, JERRY A.\n",
       "4           ACOSTA, GEORGIA L."
      ]
     },
     "execution_count": 6,
     "metadata": {},
     "output_type": "execute_result"
    }
   ],
   "source": [
    "# Load data\n",
    "QUERY = \"\"\"\n",
    "select\n",
    "   distinct( candidate_name) as dbname\n",
    "from data_ingest.casos__california_candidate_statewide_election_results\n",
    "\n",
    "union\n",
    "\n",
    "select\n",
    "   distinct( recipient_candidate_name)\n",
    "from trg_analytics.candidate_contributions\n",
    "\"\"\"\n",
    "with engine.begin() as conn:\n",
    "    sql_results = pd.read_sql(QUERY, conn)\n",
    "\n",
    "#sql_results = sql_results.dropna()\n",
    "print(\"Size:\", len(sql_results))\n",
    "sql_results.head(5)"
   ]
  },
  {
   "cell_type": "code",
   "execution_count": 15,
   "metadata": {},
   "outputs": [
    {
     "data": {
      "text/html": [
       "<div>\n",
       "<style>\n",
       "    .dataframe thead tr:only-child th {\n",
       "        text-align: right;\n",
       "    }\n",
       "\n",
       "    .dataframe thead th {\n",
       "        text-align: left;\n",
       "    }\n",
       "\n",
       "    .dataframe tbody tr th {\n",
       "        vertical-align: top;\n",
       "    }\n",
       "</style>\n",
       "<table border=\"1\" class=\"dataframe\">\n",
       "  <thead>\n",
       "    <tr style=\"text-align: right;\">\n",
       "      <th></th>\n",
       "      <th>id</th>\n",
       "    </tr>\n",
       "    <tr>\n",
       "      <th>dbname</th>\n",
       "      <th></th>\n",
       "    </tr>\n",
       "  </thead>\n",
       "  <tbody>\n",
       "    <tr>\n",
       "      <th>KNIGHT, WILLIAM J. \\PETE\\\"\"</th>\n",
       "      <td>1</td>\n",
       "    </tr>\n",
       "    <tr>\n",
       "      <th>Adam Shbeita</th>\n",
       "      <td>2</td>\n",
       "    </tr>\n",
       "    <tr>\n",
       "      <th>HILL, JERRY A.</th>\n",
       "      <td>3</td>\n",
       "    </tr>\n",
       "    <tr>\n",
       "      <th>ACOSTA, GEORGIA L.</th>\n",
       "      <td>4</td>\n",
       "    </tr>\n",
       "    <tr>\n",
       "      <th>GUILLEN, ABEL</th>\n",
       "      <td>5</td>\n",
       "    </tr>\n",
       "  </tbody>\n",
       "</table>\n",
       "</div>"
      ],
      "text/plain": [
       "                             id\n",
       "dbname                         \n",
       "KNIGHT, WILLIAM J. \\PETE\\\"\"   1\n",
       "Adam Shbeita                  2\n",
       "HILL, JERRY A.                3\n",
       "ACOSTA, GEORGIA L.            4\n",
       "GUILLEN, ABEL                 5"
      ]
     },
     "execution_count": 15,
     "metadata": {},
     "output_type": "execute_result"
    }
   ],
   "source": [
    "# Load pairings\n",
    "csv_data = pd.read_csv(\"./dbname_2_id___2.csv\")\n",
    "csv_data = csv_data.set_index(\"dbname\") # Now we can do csv_data.loc[str(x)].id to get the id\n",
    "\n",
    "def dbname_to_id(name):\n",
    "    try:\n",
    "        return int(csv_data.loc[str(name)].id)\n",
    "    except:\n",
    "        return None\n",
    "\n",
    "csv_data.head(5)"
   ]
  },
  {
   "cell_type": "code",
   "execution_count": 16,
   "metadata": {},
   "outputs": [
    {
     "data": {
      "text/html": [
       "<div>\n",
       "<style>\n",
       "    .dataframe thead tr:only-child th {\n",
       "        text-align: right;\n",
       "    }\n",
       "\n",
       "    .dataframe thead th {\n",
       "        text-align: left;\n",
       "    }\n",
       "\n",
       "    .dataframe tbody tr th {\n",
       "        vertical-align: top;\n",
       "    }\n",
       "</style>\n",
       "<table border=\"1\" class=\"dataframe\">\n",
       "  <thead>\n",
       "    <tr style=\"text-align: right;\">\n",
       "      <th></th>\n",
       "      <th>dbname</th>\n",
       "      <th>id</th>\n",
       "    </tr>\n",
       "  </thead>\n",
       "  <tbody>\n",
       "    <tr>\n",
       "      <th>1</th>\n",
       "      <td>KNIGHT, WILLIAM J. \\PETE\\\"\"</td>\n",
       "      <td>1</td>\n",
       "    </tr>\n",
       "    <tr>\n",
       "      <th>2</th>\n",
       "      <td>Adam Shbeita</td>\n",
       "      <td>2</td>\n",
       "    </tr>\n",
       "    <tr>\n",
       "      <th>3</th>\n",
       "      <td>HILL, JERRY A.</td>\n",
       "      <td>3</td>\n",
       "    </tr>\n",
       "    <tr>\n",
       "      <th>4</th>\n",
       "      <td>ACOSTA, GEORGIA L.</td>\n",
       "      <td>4</td>\n",
       "    </tr>\n",
       "    <tr>\n",
       "      <th>5</th>\n",
       "      <td>GUILLEN, ABEL</td>\n",
       "      <td>5</td>\n",
       "    </tr>\n",
       "  </tbody>\n",
       "</table>\n",
       "</div>"
      ],
      "text/plain": [
       "                        dbname  id\n",
       "1  KNIGHT, WILLIAM J. \\PETE\\\"\"   1\n",
       "2                 Adam Shbeita   2\n",
       "3               HILL, JERRY A.   3\n",
       "4           ACOSTA, GEORGIA L.   4\n",
       "5                GUILLEN, ABEL   5"
      ]
     },
     "execution_count": 16,
     "metadata": {},
     "output_type": "execute_result"
    }
   ],
   "source": [
    "sql_results = sql_results.loc[pd.notnull(sql_results.dbname),:] # Drop rows whos dbname is null, otherwise id becomes a float\n",
    "sql_results[\"id\"] = sql_results[\"dbname\"].apply(dbname_to_id)\n",
    "sql_results.head(5)"
   ]
  },
  {
   "cell_type": "markdown",
   "metadata": {},
   "source": [
    "## Generic Name Matching\n",
    "This is used to test models, but the dataset is not very accurate. Until the fuzzy name matching section is complete, we will be using this dataset which can be explained with the SQL query below."
   ]
  },
  {
   "cell_type": "code",
   "execution_count": 8,
   "metadata": {},
   "outputs": [
    {
     "name": "stdout",
     "output_type": "stream",
     "text": [
      "Size: 230\n"
     ]
    },
    {
     "data": {
      "text/html": [
       "<div>\n",
       "<style>\n",
       "    .dataframe thead tr:only-child th {\n",
       "        text-align: right;\n",
       "    }\n",
       "\n",
       "    .dataframe thead th {\n",
       "        text-align: left;\n",
       "    }\n",
       "\n",
       "    .dataframe tbody tr th {\n",
       "        vertical-align: top;\n",
       "    }\n",
       "</style>\n",
       "<table border=\"1\" class=\"dataframe\">\n",
       "  <thead>\n",
       "    <tr style=\"text-align: right;\">\n",
       "      <th></th>\n",
       "      <th>candidate_name</th>\n",
       "    </tr>\n",
       "  </thead>\n",
       "  <tbody>\n",
       "    <tr>\n",
       "      <th>0</th>\n",
       "      <td>Abel Maldonado</td>\n",
       "    </tr>\n",
       "    <tr>\n",
       "      <th>1</th>\n",
       "      <td>Abigail Medina</td>\n",
       "    </tr>\n",
       "    <tr>\n",
       "      <th>2</th>\n",
       "      <td>Adam Gray</td>\n",
       "    </tr>\n",
       "    <tr>\n",
       "      <th>3</th>\n",
       "      <td>Adam Joshua Miller</td>\n",
       "    </tr>\n",
       "    <tr>\n",
       "      <th>4</th>\n",
       "      <td>Adrin Nazarian</td>\n",
       "    </tr>\n",
       "  </tbody>\n",
       "</table>\n",
       "</div>"
      ],
      "text/plain": [
       "       candidate_name\n",
       "0      Abel Maldonado\n",
       "1      Abigail Medina\n",
       "2           Adam Gray\n",
       "3  Adam Joshua Miller\n",
       "4      Adrin Nazarian"
      ]
     },
     "execution_count": 8,
     "metadata": {},
     "output_type": "execute_result"
    }
   ],
   "source": [
    "QUERY = \"\"\"\n",
    "select\n",
    " distinct(candidate_name) as candidate_name\n",
    "from data_ingest.casos__california_candidate_statewide_election_results\n",
    "where county_name like 'State Totals' \n",
    "    and contest_name not like %s\n",
    "    and contest_name not like %s\n",
    "    and contest_name not like %s\n",
    "    and contest_name not like %s\n",
    "    and contest_name not like %s\n",
    "    and contest_name not like %s\n",
    "    and contest_name not like %s\n",
    "    and not candidate_name = ''\n",
    "order by candidate_name asc;\n",
    "\"\"\"\n",
    "with engine.begin() as conn:\n",
    "    names = pd.read_sql(QUERY, con=conn, params=(\"President%\",\"president%\", \"US Senate%\", \n",
    "                                                        \"United States Representative%\", \"us\", \"united%\",\n",
    "                                                       \"%Congressional District\",))\n",
    "\n",
    "#sql_results = sql_results.dropna()\n",
    "print(\"Size:\", len(names))\n",
    "names.head(5)"
   ]
  },
  {
   "cell_type": "markdown",
   "metadata": {},
   "source": [
    "## Organized Contributions by Outcome\n",
    "Phil's explanation here. Main candidate data"
   ]
  },
  {
   "cell_type": "code",
   "execution_count": 10,
   "metadata": {},
   "outputs": [
    {
     "name": "stdout",
     "output_type": "stream",
     "text": [
      "Size: 130\n"
     ]
    },
    {
     "data": {
      "text/html": [
       "<div>\n",
       "<style>\n",
       "    .dataframe thead tr:only-child th {\n",
       "        text-align: right;\n",
       "    }\n",
       "\n",
       "    .dataframe thead th {\n",
       "        text-align: left;\n",
       "    }\n",
       "\n",
       "    .dataframe tbody tr th {\n",
       "        vertical-align: top;\n",
       "    }\n",
       "</style>\n",
       "<table border=\"1\" class=\"dataframe\">\n",
       "  <thead>\n",
       "    <tr style=\"text-align: right;\">\n",
       "      <th></th>\n",
       "      <th>cn</th>\n",
       "      <th>cn_dicccser</th>\n",
       "      <th>party_name</th>\n",
       "      <th>election_year</th>\n",
       "      <th>contest_name</th>\n",
       "      <th>total_votes</th>\n",
       "      <th>incumbent_flag</th>\n",
       "      <th>is_winner</th>\n",
       "      <th>rcn</th>\n",
       "      <th>rcn_tacc</th>\n",
       "      <th>election_year</th>\n",
       "      <th>average_amount_per_contrib</th>\n",
       "      <th>num_trans</th>\n",
       "      <th>total_contrib</th>\n",
       "    </tr>\n",
       "  </thead>\n",
       "  <tbody>\n",
       "    <tr>\n",
       "      <th>0</th>\n",
       "      <td>Steve Cooley</td>\n",
       "      <td>stevecooley</td>\n",
       "      <td>REP</td>\n",
       "      <td>2010</td>\n",
       "      <td>attorney</td>\n",
       "      <td>4368624.000</td>\n",
       "      <td>N</td>\n",
       "      <td>0</td>\n",
       "      <td>COOLEY, STEVE</td>\n",
       "      <td>stevecooley</td>\n",
       "      <td>2010</td>\n",
       "      <td>1459.770</td>\n",
       "      <td>3797</td>\n",
       "      <td>5542737.840</td>\n",
       "    </tr>\n",
       "    <tr>\n",
       "      <th>1</th>\n",
       "      <td>Kamala D. Harris</td>\n",
       "      <td>kamaladharris</td>\n",
       "      <td>DEM</td>\n",
       "      <td>2010</td>\n",
       "      <td>attorney</td>\n",
       "      <td>4442781.000</td>\n",
       "      <td>N</td>\n",
       "      <td>1</td>\n",
       "      <td>HARRIS, KAMALA D.</td>\n",
       "      <td>kamaladharris</td>\n",
       "      <td>2010</td>\n",
       "      <td>968.480</td>\n",
       "      <td>7705</td>\n",
       "      <td>7462100.340</td>\n",
       "    </tr>\n",
       "    <tr>\n",
       "      <th>2</th>\n",
       "      <td>John Chiang</td>\n",
       "      <td>johnchiang</td>\n",
       "      <td>DEM</td>\n",
       "      <td>2010</td>\n",
       "      <td>controller</td>\n",
       "      <td>5325357.000</td>\n",
       "      <td>Y</td>\n",
       "      <td>1</td>\n",
       "      <td>CHIANG, JOHN</td>\n",
       "      <td>johnchiang</td>\n",
       "      <td>2010</td>\n",
       "      <td>1027.130</td>\n",
       "      <td>2157</td>\n",
       "      <td>2215518.960</td>\n",
       "    </tr>\n",
       "    <tr>\n",
       "      <th>3</th>\n",
       "      <td>Tony Strickland</td>\n",
       "      <td>tonystrickland</td>\n",
       "      <td>REP</td>\n",
       "      <td>2010</td>\n",
       "      <td>controller</td>\n",
       "      <td>3487014.000</td>\n",
       "      <td>N</td>\n",
       "      <td>0</td>\n",
       "      <td>STRICKLAND, TONY</td>\n",
       "      <td>tonystrickland</td>\n",
       "      <td>2010</td>\n",
       "      <td>1693.720</td>\n",
       "      <td>1572</td>\n",
       "      <td>2662524.040</td>\n",
       "    </tr>\n",
       "    <tr>\n",
       "      <th>4</th>\n",
       "      <td>Dave Jones</td>\n",
       "      <td>davejones</td>\n",
       "      <td>DEM</td>\n",
       "      <td>2010</td>\n",
       "      <td>insurance</td>\n",
       "      <td>4765400.000</td>\n",
       "      <td>N</td>\n",
       "      <td>1</td>\n",
       "      <td>JONES, DAVE</td>\n",
       "      <td>davejones</td>\n",
       "      <td>2010</td>\n",
       "      <td>993.840</td>\n",
       "      <td>4176</td>\n",
       "      <td>4150255.580</td>\n",
       "    </tr>\n",
       "  </tbody>\n",
       "</table>\n",
       "</div>"
      ],
      "text/plain": [
       "                 cn     cn_dicccser party_name  election_year contest_name  \\\n",
       "0      Steve Cooley     stevecooley        REP           2010     attorney   \n",
       "1  Kamala D. Harris   kamaladharris        DEM           2010     attorney   \n",
       "2       John Chiang      johnchiang        DEM           2010   controller   \n",
       "3   Tony Strickland  tonystrickland        REP           2010   controller   \n",
       "4        Dave Jones       davejones        DEM           2010    insurance   \n",
       "\n",
       "   total_votes incumbent_flag  is_winner                rcn        rcn_tacc  \\\n",
       "0  4368624.000              N          0      COOLEY, STEVE     stevecooley   \n",
       "1  4442781.000              N          1  HARRIS, KAMALA D.   kamaladharris   \n",
       "2  5325357.000              Y          1       CHIANG, JOHN      johnchiang   \n",
       "3  3487014.000              N          0   STRICKLAND, TONY  tonystrickland   \n",
       "4  4765400.000              N          1        JONES, DAVE       davejones   \n",
       "\n",
       "   election_year  average_amount_per_contrib  num_trans  total_contrib  \n",
       "0           2010                    1459.770       3797    5542737.840  \n",
       "1           2010                     968.480       7705    7462100.340  \n",
       "2           2010                    1027.130       2157    2215518.960  \n",
       "3           2010                    1693.720       1572    2662524.040  \n",
       "4           2010                     993.840       4176    4150255.580  "
      ]
     },
     "execution_count": 10,
     "metadata": {},
     "output_type": "execute_result"
    }
   ],
   "source": [
    "QUERY = \"\"\"\n",
    "\n",
    "with t1 as ( --cadidate_contribution_per_election_cycle\n",
    "  select \n",
    "      recipient_candidate_name as rcn,\n",
    "      election_cycle as ec,\n",
    "      sum(transaction_amount) as trans_amount,\n",
    "      count(*) as num_trans\n",
    "  from trg_analytics.candidate_contributions\n",
    "  where cast(election_cycle as int) >= 2009 -- The election cycle year has to match the dicccser table election year time interval as to obtian the election results.\n",
    "  group by recipient_candidate_name, election_cycle\n",
    "),\n",
    "\n",
    "t2 as (\n",
    "  select\n",
    "    replace( candidate_name, '*', '') as cn,\n",
    "    party_name,\n",
    "    election_name,\n",
    "    contest_name,\n",
    "    sum(vote_total) as total_votes,\n",
    "    incumbent_flag,\n",
    "    rank() over (partition by election_name,  contest_name  order by sum(vote_total)  desc)  = 1 as is_winner\n",
    "  from data_ingest.casos__california_candidate_statewide_election_results\n",
    "  where county_name like 'State Totals' \n",
    "    and contest_name not like %s\n",
    "    and contest_name not like %s\n",
    "    and contest_name not like %s \n",
    "    and contest_name not like %s\n",
    "    and contest_name not like %s\n",
    "    and contest_name not like %s\n",
    "    and contest_name not like %s\n",
    "  group by \n",
    "    candidate_name,\n",
    "    party_name,\n",
    "    contest_name,\n",
    "    election_name,\n",
    "    incumbent_flag\n",
    "),\n",
    "\n",
    "t2_a as (\n",
    "  select \n",
    "    t2.cn,\n",
    "    regexp_replace(lower(split_part(t2.cn, ',', 2) || split_part(t2.cn, ',', 1)), '[^a-z]', '', 'g') as cn_dicccser,\n",
    "    party_name,\n",
    "    cast(SUBSTRING( election_name, 1, 4) as int) as election_year,\n",
    "    contest_name,\n",
    "    total_votes,\n",
    "    incumbent_flag,\n",
    "    is_winner::int as is_winner\n",
    "  from t2\n",
    " ),   \n",
    " \n",
    "t1_a as (\n",
    "  select \n",
    "      t1.rcn ,\n",
    "      regexp_replace(lower(split_part(rcn, ',', 2) || split_part(rcn, ',', 1)), '[^a-z]', '', 'g') as rcn_tacc,\n",
    "      --t1.rcn_tacc,\n",
    "      cast( t1.ec as int)+1 as election_year,\n",
    "      round(trans_amount/ num_trans, 2) as average_amount_per_contrib,\n",
    "      t1.num_trans,\n",
    "      t1.trans_amount as total_contrib\n",
    "  from t1\n",
    ")\n",
    "\n",
    "select *\n",
    "from t2_a \n",
    "join t1_a\n",
    "on cn_dicccser = rcn_tacc\n",
    "and t2_a.election_year = t1_a.election_year\n",
    "order by t2_a.election_year, t2_a.contest_name\n",
    "\"\"\"\n",
    "with engine.begin() as conn:\n",
    "    dat = pd.read_sql(QUERY, con=conn, params=(\"President%\",\"president%\", \"US Senate%\", \n",
    "                                                        \"United States Representative%\", \"us\", \"united%\",\n",
    "                                                       \"%Congressional District\",))\n",
    "\n",
    "#sql_results = sql_results.dropna()\n",
    "print(\"Size:\", len(dat))\n",
    "dat.head(5)"
   ]
  },
  {
   "cell_type": "markdown",
   "metadata": {},
   "source": [
    "## Data Exploration and Preprocessing\n",
    "We have pretty clean data from -- and from the queries we produces. Some of the features in the original dataset were removed because there was a lot of empty and missing data from the majority of the columns. Here we are doing generic data preprocessing and exploration."
   ]
  },
  {
   "cell_type": "code",
   "execution_count": 11,
   "metadata": {
    "collapsed": true
   },
   "outputs": [],
   "source": [
    "\n",
    "X = dat.loc[:,dat.columns != 'is_winner']\n",
    "y = dat.is_winner\n"
   ]
  },
  {
   "cell_type": "code",
   "execution_count": 12,
   "metadata": {},
   "outputs": [
    {
     "name": "stdout",
     "output_type": "stream",
     "text": [
      "Train_x Shape ::  (91, 13)\n",
      "Train_y Shape ::  (91,)\n",
      "Test_x Shape ::  (39, 13)\n",
      "Test_y Shape ::  (39,)\n"
     ]
    }
   ],
   "source": []
  },
  {
   "cell_type": "code",
   "execution_count": 13,
   "metadata": {},
   "outputs": [
    {
     "name": "stdout",
     "output_type": "stream",
     "text": [
      "Different columns we can use when looking to predict our target./n\n"
     ]
    },
    {
     "data": {
      "text/plain": [
       "Index(['cn', 'cn_dicccser', 'party_name', 'election_year', 'contest_name',\n",
       "       'total_votes', 'incumbent_flag', 'is_winner', 'rcn', 'rcn_tacc',\n",
       "       'election_year', 'average_amount_per_contrib', 'num_trans',\n",
       "       'total_contrib'],\n",
       "      dtype='object')"
      ]
     },
     "execution_count": 13,
     "metadata": {},
     "output_type": "execute_result"
    }
   ],
   "source": [
    "print (\"Different columns we can use when looking to predict our target./n\")\n",
    "dat.columns"
   ]
  },
  {
   "cell_type": "markdown",
   "metadata": {},
   "source": [
    "## Categorical Summary\n",
    "Here I am separating the dataframe for preprocessing reasons. I am going to one-hot encode the categorical/string features and then union these with the post-preprocessed numeric data."
   ]
  },
  {
   "cell_type": "code",
   "execution_count": 14,
   "metadata": {},
   "outputs": [
    {
     "data": {
      "text/html": [
       "<div>\n",
       "<style>\n",
       "    .dataframe thead tr:only-child th {\n",
       "        text-align: right;\n",
       "    }\n",
       "\n",
       "    .dataframe thead th {\n",
       "        text-align: left;\n",
       "    }\n",
       "\n",
       "    .dataframe tbody tr th {\n",
       "        vertical-align: top;\n",
       "    }\n",
       "</style>\n",
       "<table border=\"1\" class=\"dataframe\">\n",
       "  <thead>\n",
       "    <tr style=\"text-align: right;\">\n",
       "      <th></th>\n",
       "      <th>cn</th>\n",
       "      <th>cn_dicccser</th>\n",
       "      <th>party_name</th>\n",
       "      <th>contest_name</th>\n",
       "      <th>incumbent_flag</th>\n",
       "      <th>rcn</th>\n",
       "      <th>rcn_tacc</th>\n",
       "    </tr>\n",
       "  </thead>\n",
       "  <tbody>\n",
       "    <tr>\n",
       "      <th>count</th>\n",
       "      <td>130</td>\n",
       "      <td>130</td>\n",
       "      <td>130</td>\n",
       "      <td>130</td>\n",
       "      <td>130</td>\n",
       "      <td>130</td>\n",
       "      <td>130</td>\n",
       "    </tr>\n",
       "    <tr>\n",
       "      <th>unique</th>\n",
       "      <td>125</td>\n",
       "      <td>125</td>\n",
       "      <td>6</td>\n",
       "      <td>86</td>\n",
       "      <td>2</td>\n",
       "      <td>125</td>\n",
       "      <td>125</td>\n",
       "    </tr>\n",
       "    <tr>\n",
       "      <th>top</th>\n",
       "      <td>Kamala D. Harris</td>\n",
       "      <td>gavinnewsom</td>\n",
       "      <td>Democratic</td>\n",
       "      <td>treasurer</td>\n",
       "      <td>N</td>\n",
       "      <td>HARRIS, KAMALA D.</td>\n",
       "      <td>gavinnewsom</td>\n",
       "    </tr>\n",
       "    <tr>\n",
       "      <th>freq</th>\n",
       "      <td>2</td>\n",
       "      <td>2</td>\n",
       "      <td>62</td>\n",
       "      <td>4</td>\n",
       "      <td>76</td>\n",
       "      <td>2</td>\n",
       "      <td>2</td>\n",
       "    </tr>\n",
       "  </tbody>\n",
       "</table>\n",
       "</div>"
      ],
      "text/plain": [
       "                      cn  cn_dicccser  party_name contest_name incumbent_flag  \\\n",
       "count                130          130         130          130            130   \n",
       "unique               125          125           6           86              2   \n",
       "top     Kamala D. Harris  gavinnewsom  Democratic    treasurer              N   \n",
       "freq                   2            2          62            4             76   \n",
       "\n",
       "                      rcn     rcn_tacc  \n",
       "count                 130          130  \n",
       "unique                125          125  \n",
       "top     HARRIS, KAMALA D.  gavinnewsom  \n",
       "freq                    2            2  "
      ]
     },
     "execution_count": 14,
     "metadata": {},
     "output_type": "execute_result"
    }
   ],
   "source": [
    "cat = X.drop(X.describe().columns, axis=1)\n",
    "cat.describe(include=\"all\")"
   ]
  },
  {
   "cell_type": "markdown",
   "metadata": {},
   "source": [
    "## Numeric Summary\n",
    "Creating an overall summary of the numeric data. I separated these visualizations because the categorical data has a lot of NA values for the numeric summary columns. This just makes it cleaner to vizualize. I am also separating into another dataframe called num in order to preprocess the data separate from the categorical values. I am able to make polynomial features and also "
   ]
  },
  {
   "cell_type": "code",
   "execution_count": 15,
   "metadata": {},
   "outputs": [
    {
     "data": {
      "text/html": [
       "<div>\n",
       "<style>\n",
       "    .dataframe thead tr:only-child th {\n",
       "        text-align: right;\n",
       "    }\n",
       "\n",
       "    .dataframe thead th {\n",
       "        text-align: left;\n",
       "    }\n",
       "\n",
       "    .dataframe tbody tr th {\n",
       "        vertical-align: top;\n",
       "    }\n",
       "</style>\n",
       "<table border=\"1\" class=\"dataframe\">\n",
       "  <thead>\n",
       "    <tr style=\"text-align: right;\">\n",
       "      <th></th>\n",
       "      <th>election_year</th>\n",
       "      <th>election_year</th>\n",
       "      <th>total_votes</th>\n",
       "      <th>election_year</th>\n",
       "      <th>election_year</th>\n",
       "      <th>average_amount_per_contrib</th>\n",
       "      <th>num_trans</th>\n",
       "      <th>total_contrib</th>\n",
       "    </tr>\n",
       "  </thead>\n",
       "  <tbody>\n",
       "    <tr>\n",
       "      <th>count</th>\n",
       "      <td>130.000</td>\n",
       "      <td>130.000</td>\n",
       "      <td>130.000</td>\n",
       "      <td>130.000</td>\n",
       "      <td>130.000</td>\n",
       "      <td>130.000</td>\n",
       "      <td>130.000</td>\n",
       "      <td>130.000</td>\n",
       "    </tr>\n",
       "    <tr>\n",
       "      <th>mean</th>\n",
       "      <td>2015.231</td>\n",
       "      <td>2015.231</td>\n",
       "      <td>871702.438</td>\n",
       "      <td>2015.231</td>\n",
       "      <td>2015.231</td>\n",
       "      <td>1575.128</td>\n",
       "      <td>922.000</td>\n",
       "      <td>1442774.984</td>\n",
       "    </tr>\n",
       "    <tr>\n",
       "      <th>std</th>\n",
       "      <td>1.785</td>\n",
       "      <td>1.785</td>\n",
       "      <td>1578784.951</td>\n",
       "      <td>1.785</td>\n",
       "      <td>1.785</td>\n",
       "      <td>1500.389</td>\n",
       "      <td>1066.415</td>\n",
       "      <td>2095193.871</td>\n",
       "    </tr>\n",
       "    <tr>\n",
       "      <th>min</th>\n",
       "      <td>2010.000</td>\n",
       "      <td>2010.000</td>\n",
       "      <td>8958.000</td>\n",
       "      <td>2010.000</td>\n",
       "      <td>2010.000</td>\n",
       "      <td>200.400</td>\n",
       "      <td>1.000</td>\n",
       "      <td>1001.130</td>\n",
       "    </tr>\n",
       "    <tr>\n",
       "      <th>25%</th>\n",
       "      <td>2016.000</td>\n",
       "      <td>2016.000</td>\n",
       "      <td>77372.500</td>\n",
       "      <td>2016.000</td>\n",
       "      <td>2016.000</td>\n",
       "      <td>995.663</td>\n",
       "      <td>268.250</td>\n",
       "      <td>352185.570</td>\n",
       "    </tr>\n",
       "    <tr>\n",
       "      <th>50%</th>\n",
       "      <td>2016.000</td>\n",
       "      <td>2016.000</td>\n",
       "      <td>109608.500</td>\n",
       "      <td>2016.000</td>\n",
       "      <td>2016.000</td>\n",
       "      <td>1340.180</td>\n",
       "      <td>686.500</td>\n",
       "      <td>860915.410</td>\n",
       "    </tr>\n",
       "    <tr>\n",
       "      <th>75%</th>\n",
       "      <td>2016.000</td>\n",
       "      <td>2016.000</td>\n",
       "      <td>186640.250</td>\n",
       "      <td>2016.000</td>\n",
       "      <td>2016.000</td>\n",
       "      <td>1621.285</td>\n",
       "      <td>1166.500</td>\n",
       "      <td>1842099.373</td>\n",
       "    </tr>\n",
       "    <tr>\n",
       "      <th>max</th>\n",
       "      <td>2016.000</td>\n",
       "      <td>2016.000</td>\n",
       "      <td>5433222.000</td>\n",
       "      <td>2016.000</td>\n",
       "      <td>2016.000</td>\n",
       "      <td>14841.130</td>\n",
       "      <td>7705.000</td>\n",
       "      <td>18492047.510</td>\n",
       "    </tr>\n",
       "  </tbody>\n",
       "</table>\n",
       "</div>"
      ],
      "text/plain": [
       "       election_year  election_year  total_votes  election_year  \\\n",
       "count        130.000        130.000      130.000        130.000   \n",
       "mean        2015.231       2015.231   871702.438       2015.231   \n",
       "std            1.785          1.785  1578784.951          1.785   \n",
       "min         2010.000       2010.000     8958.000       2010.000   \n",
       "25%         2016.000       2016.000    77372.500       2016.000   \n",
       "50%         2016.000       2016.000   109608.500       2016.000   \n",
       "75%         2016.000       2016.000   186640.250       2016.000   \n",
       "max         2016.000       2016.000  5433222.000       2016.000   \n",
       "\n",
       "       election_year  average_amount_per_contrib  num_trans  total_contrib  \n",
       "count        130.000                     130.000    130.000        130.000  \n",
       "mean        2015.231                    1575.128    922.000    1442774.984  \n",
       "std            1.785                    1500.389   1066.415    2095193.871  \n",
       "min         2010.000                     200.400      1.000       1001.130  \n",
       "25%         2016.000                     995.663    268.250     352185.570  \n",
       "50%         2016.000                    1340.180    686.500     860915.410  \n",
       "75%         2016.000                    1621.285   1166.500    1842099.373  \n",
       "max         2016.000                   14841.130   7705.000   18492047.510  "
      ]
     },
     "execution_count": 15,
     "metadata": {},
     "output_type": "execute_result"
    }
   ],
   "source": [
    "num=X[X.describe().columns]\n",
    "num.describe()"
   ]
  },
  {
   "cell_type": "markdown",
   "metadata": {},
   "source": [
    "## Visualizations\n",
    "This is an important part of our research because its a way to show common voters this data as a graph instead of a list of numbers. It can also show patterns and bring to light which features are going to affect the winner of the campaign. Something else that we are looking at is who is actually contributing to each campaign. Contributer visualizations and correlations will also be displayed here\n",
    "which org contr to dem rep, org by out of state in state, donation by out of state in state, amount of money out of state in state, top state contr, top contributors by how much money, "
   ]
  },
  {
   "cell_type": "markdown",
   "metadata": {},
   "source": [
    "## Preprocessing\n",
    "Separation of numeric data and categorical is key here. As stated above, the one hot encoded categorical variables will supply more features and also remove most of the strings, giving us more features to look at, and also makes these categorical values more explanatory power. Some of the numerical values do not make sense to include in a polynomial feature, so I am also exploring which features to also take out of the numeric data.\n",
    "Later I decided not to include polynomial features because"
   ]
  },
  {
   "cell_type": "code",
   "execution_count": 16,
   "metadata": {},
   "outputs": [
    {
     "data": {
      "text/plain": [
       "Index(['total_votes', 'average_amount_per_contrib', 'num_trans',\n",
       "       'total_contrib'],\n",
       "      dtype='object')"
      ]
     },
     "execution_count": 16,
     "metadata": {},
     "output_type": "execute_result"
    }
   ],
   "source": [
    "num = num.drop(\"election_year\", axis=1)\n",
    "num.columns\n",
    "#num.columns"
   ]
  },
  {
   "cell_type": "code",
   "execution_count": null,
   "metadata": {
    "collapsed": true
   },
   "outputs": [],
   "source": [
    "onehotencode = pd.get_dummies(cat)"
   ]
  },
  {
   "cell_type": "code",
   "execution_count": 109,
   "metadata": {},
   "outputs": [],
   "source": [
    "num_attribs = num.columns\n",
    "cat_attribs = cat.columns\n",
    "else_attribs = \"election_year\"\n",
    "num_pipeline = Pipeline([\n",
    " ('selector', DataFrameSelector(num_attribs)), \n",
    " ('std_scaler', StandardScaler()),\n",
    "])\n",
    "scaled_dat = pd.DataFrame(num_pipeline.fit_transform(X))"
   ]
  },
  {
   "cell_type": "code",
   "execution_count": 110,
   "metadata": {},
   "outputs": [],
   "source": [
    "scaled_dat = pd.concat([scaled_dat, onehotencode, X[\"election_year\"]], axis=1)"
   ]
  },
  {
   "cell_type": "code",
   "execution_count": 111,
   "metadata": {},
   "outputs": [
    {
     "name": "stdout",
     "output_type": "stream",
     "text": [
      "The dataframe after preprocessing has 600 columns.\n"
     ]
    }
   ],
   "source": [
    "print(\"The dataframe after preprocessing has\", len(scaled_dat.columns), \"columns.\")"
   ]
  },
  {
   "cell_type": "markdown",
   "metadata": {},
   "source": [
    "This is too many features in my opinion. So dimension reduction is something that should be looked into as well as top features."
   ]
  },
  {
   "cell_type": "code",
   "execution_count": null,
   "metadata": {},
   "outputs": [],
   "source": []
  },
  {
   "cell_type": "markdown",
   "metadata": {},
   "source": [
    "## Feature Selection/Engineering\n",
    "Trying top 50 features using a tree, and then again using dimensionality reduction to see which "
   ]
  },
  {
   "cell_type": "code",
   "execution_count": 112,
   "metadata": {},
   "outputs": [],
   "source": [
    "model = ExtraTreesClassifier()\n",
    "model.fit(scaled_dat, y)\n",
    "#print(model.feature_importances_)\n",
    "final_x = scaled_dat[scaled_dat.columns[np.argsort(-model.feature_importances_)[:50]]]\n"
   ]
  },
  {
   "cell_type": "code",
   "execution_count": 113,
   "metadata": {},
   "outputs": [
    {
     "data": {
      "text/plain": [
       "(130, 51)"
      ]
     },
     "execution_count": 113,
     "metadata": {},
     "output_type": "execute_result"
    }
   ],
   "source": [
    "final_x.shape"
   ]
  },
  {
   "cell_type": "code",
   "execution_count": 114,
   "metadata": {},
   "outputs": [
    {
     "name": "stdout",
     "output_type": "stream",
     "text": [
      "Train_x Shape ::  (91, 51)\n",
      "Train_y Shape ::  (91,)\n",
      "Test_x Shape ::  (39, 51)\n",
      "Test_y Shape ::  (39,)\n"
     ]
    }
   ],
   "source": [
    "#target_header = 'is_winner'\n",
    "#feature_headers = list(set(scaled_dat.columns))\n",
    "train_x, test_x, train_y, test_y = train_test_split(final_x,y, test_size=0.3)\n",
    "# Train and Test dataset size details\n",
    "print(\"Train_x Shape :: \", train_x.shape)\n",
    "print(\"Train_y Shape :: \", train_y.shape)\n",
    "print(\"Test_x Shape :: \", test_x.shape)\n",
    "print(\"Test_y Shape :: \", test_y.shape)"
   ]
  },
  {
   "cell_type": "markdown",
   "metadata": {},
   "source": [
    "## Top 50 Features - Tree"
   ]
  },
  {
   "cell_type": "code",
   "execution_count": 115,
   "metadata": {},
   "outputs": [
    {
     "name": "stdout",
     "output_type": "stream",
     "text": [
      "incumbent_flag_Y\n",
      "incumbent_flag_N\n",
      "party_name_DEM\n",
      "0\n",
      "party_name_REP\n",
      "1\n",
      "party_name_Democratic\n",
      "3\n",
      "cn_Patty Lopez\n",
      "election_year\n",
      "election_year\n",
      "cn_dicccser_kevinkiley\n",
      "cn_Dante Acosta\n",
      "party_name_Republican\n",
      "rcn_FLORA, HEATH\n",
      "rcn_tacc_danteacosta\n",
      "contest_name_State Assembly Member District 35\n",
      "cn_Vicki Veenker\n",
      "rcn_CHEN, PHILLIP\n",
      "cn_dicccser_phillipchen\n",
      "rcn_tacc_tomtorlakson\n",
      "2\n",
      "cn_Todd Gloria\n",
      "rcn_tacc_heathflora\n",
      "cn_dicccser_sharonquirksilva\n",
      "contest_name_State Assembly Member District 66\n",
      "cn_dicccser_rubenmacareno\n",
      "cn_Phillip Chen\n",
      "rcn_KILEY, KEVIN\n",
      "rcn_COOK-KALLIO, CHERYL\n",
      "cn_dicccser_annacaballero\n",
      "contest_name_State Assembly Member District 14\n",
      "rcn_CERVANTES, SABRINA\n",
      "rcn_tacc_jordancunningham\n",
      "rcn_tacc_pattylopez\n",
      "cn_Jordan Cunningham\n",
      "rcn_SMITH, CHRISTY\n",
      "cn_Cheryl Cook-Kallio\n",
      "rcn_tacc_christysmith\n",
      "contest_name_State Assembly Member District 39\n",
      "contest_name_State Assembly Member District 55\n",
      "cn_Ash Kalra\n",
      "rcn_tacc_toddgloria\n",
      "rcn_KASSAKHIAN, ARDY\n",
      "cn_Karina Onofre\n",
      "cn_dicccser_laurafriedman\n",
      "cn_Kevin Kiley\n",
      "cn_Heath Flora\n",
      "rcn_CUNNINGHAM, JORDAN\n",
      "rcn_NGUYEN, MADISON\n",
      "contest_name_superintendent\n",
      "These top 50 features show that these are the most important features when deciding who is going to win an election. Interesting!\n"
     ]
    }
   ],
   "source": [
    "for item in final_x.columns:\n",
    "    print(item)\n",
    "    \n",
    "print(\"These top 50 features show that these are the most important features when deciding who is going to win an election. Interesting!\")"
   ]
  },
  {
   "cell_type": "markdown",
   "metadata": {},
   "source": [
    "## Grid Search"
   ]
  },
  {
   "cell_type": "code",
   "execution_count": 116,
   "metadata": {
    "collapsed": true
   },
   "outputs": [],
   "source": [
    "def svc_param_selection(X, y):\n",
    "    Cs = [0.001, 0.01, 0.1, 1, 10]\n",
    "    gammas = [0.001, 0.01, 0.1, 1]\n",
    "    param_grid = {'C': Cs, 'gamma' : gammas}\n",
    "    grid_search = GridSearchCV(SVC(kernel='rbf'), param_grid)\n",
    "    grid_search.fit(X, y)\n",
    "    grid_search.best_params_\n",
    "    return grid_search.best_params_"
   ]
  },
  {
   "cell_type": "markdown",
   "metadata": {},
   "source": [
    "## Support Vector Classification\n",
    "Used GridSearch CV (not shown) to find the shown parameters. Added 3rd degree polynomial features to our numeric data and also used standard scaling.\n",
    "This ROC curve was not as smooth as the Random Forest, but that is not necessarily a bad thing."
   ]
  },
  {
   "cell_type": "code",
   "execution_count": 117,
   "metadata": {},
   "outputs": [
    {
     "data": {
      "text/plain": [
       "{'C': 10, 'gamma': 1}"
      ]
     },
     "execution_count": 117,
     "metadata": {},
     "output_type": "execute_result"
    }
   ],
   "source": [
    "# Use gridsearch in the future for the new best parameters.\n",
    "svc_param_selection(final_x,y)"
   ]
  },
  {
   "cell_type": "code",
   "execution_count": 118,
   "metadata": {},
   "outputs": [],
   "source": [
    "svm_clf = SVC(C=10, gamma=1, probability=True)\n",
    "trained_svm = svm_clf.fit(train_x, train_y)\n",
    "cv_svm = StratifiedKFold(n_splits=6)"
   ]
  },
  {
   "cell_type": "code",
   "execution_count": 120,
   "metadata": {},
   "outputs": [
    {
     "data": {
      "image/png": "[encoded data removed]",
      "text/plain": [
       "<matplotlib.figure.Figure at 0x1a17e58860>"
      ]
     },
     "metadata": {},
     "output_type": "display_data"
    }
   ],
   "source": [
    "meu.draw_cv_roc_curve(trained_svm, cv_svm, train_x, train_y)"
   ]
  },
  {
   "cell_type": "code",
   "execution_count": 122,
   "metadata": {},
   "outputs": [
    {
     "data": {
      "image/png": "[encoded data removed]",
      "text/plain": [
       "<matplotlib.figure.Figure at 0x1a1834a8d0>"
      ]
     },
     "metadata": {},
     "output_type": "display_data"
    }
   ],
   "source": [
    "meu.plot_precision_recall_curve(trained_svm, test_x, test_y)"
   ]
  },
  {
   "cell_type": "code",
   "execution_count": 124,
   "metadata": {},
   "outputs": [],
   "source": [
    "predictions = trained_svm.predict(test_x)"
   ]
  },
  {
   "cell_type": "code",
   "execution_count": 130,
   "metadata": {},
   "outputs": [
    {
     "name": "stdout",
     "output_type": "stream",
     "text": [
      "Train Accuracy ::  0.813186813187\n",
      "Test Accuracy  ::  0.974358974359\n",
      " Confusion matrix: \n"
     ]
    },
    {
     "data": {
      "text/plain": [
       "array([[17,  1],\n",
       "       [ 0, 21]])"
      ]
     },
     "execution_count": 130,
     "metadata": {},
     "output_type": "execute_result"
    }
   ],
   "source": [
    "# Train and Test Accuracy\n",
    "print(\"Train Accuracy :: \", accuracy_score(train_y, trained_svm.predict(train_x)))\n",
    "print(\"Test Accuracy  :: \", accuracy_score(test_y, predictions))\n",
    "print(\" Confusion matrix: \")\n",
    "confusion_matrix(test_y, predictions)"
   ]
  },
  {
   "cell_type": "code",
   "execution_count": 127,
   "metadata": {},
   "outputs": [
    {
     "data": {
      "text/plain": [
       "array([[17,  1],\n",
       "       [ 0, 21]])"
      ]
     },
     "execution_count": 127,
     "metadata": {},
     "output_type": "execute_result"
    }
   ],
   "source": [
    "confusion_matrix(test_y, predictions)"
   ]
  },
  {
   "cell_type": "code",
   "execution_count": null,
   "metadata": {
    "collapsed": true
   },
   "outputs": [],
   "source": []
  }
 ],
 "metadata": {
  "kernelspec": {
   "display_name": "Python 3",
   "language": "python",
   "name": "python3"
  },
  "language_info": {
   "codemirror_mode": {
    "name": "ipython",
    "version": 3
   },
   "file_extension": ".py",
   "mimetype": "text/x-python",
   "name": "python",
   "nbconvert_exporter": "python",
   "pygments_lexer": "ipython3",
   "version": "3.6.3"
  }
 },
 "nbformat": 4,
 "nbformat_minor": 2
}
